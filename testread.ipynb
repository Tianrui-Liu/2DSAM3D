{
 "cells": [
  {
   "cell_type": "code",
   "execution_count": 3,
   "metadata": {},
   "outputs": [
    {
     "name": "stdout",
     "output_type": "stream",
     "text": [
      "Number of training images 142775\n",
      "Number of validation images 15492\n",
      "Number of test images 9683\n"
     ]
    }
   ],
   "source": [
    "import os\n",
    "import glob\n",
    "data_paths = {}\n",
    "datasets = ['train', 'val', 'test']\n",
    "data_types = ['2d_images', '2d_masks']\n",
    "# Create directories and print the number of images and masks in each\n",
    "for dataset in datasets:\n",
    "    for data_type in data_types:\n",
    "        # Construct the directory path\n",
    "        dir_path = os.path.join('./LUNA16/dataset_512/', f'{dataset}_{data_type}_512')\n",
    "        \n",
    "        # Find images and labels in the directory\n",
    "        files = sorted(glob.glob(os.path.join(dir_path, \"*.nii.gz\")))\n",
    "        \n",
    "        # Store the image and label paths in the dictionary\n",
    "        data_paths[f'{dataset}_{data_type.split(\"_\")[1]}'] = files\n",
    "\n",
    "print('Number of training images', len(data_paths['train_images']))\n",
    "print('Number of validation images', len(data_paths['val_images']))\n",
    "print('Number of test images', len(data_paths['test_images']))"
   ]
  }
 ],
 "metadata": {
  "kernelspec": {
   "display_name": "sam",
   "language": "python",
   "name": "python3"
  },
  "language_info": {
   "codemirror_mode": {
    "name": "ipython",
    "version": 3
   },
   "file_extension": ".py",
   "mimetype": "text/x-python",
   "name": "python",
   "nbconvert_exporter": "python",
   "pygments_lexer": "ipython3",
   "version": "3.8.17"
  }
 },
 "nbformat": 4,
 "nbformat_minor": 2
}
