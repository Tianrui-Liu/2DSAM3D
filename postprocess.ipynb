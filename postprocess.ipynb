{
 "cells": [
  {
   "cell_type": "code",
   "execution_count": null,
   "metadata": {},
   "outputs": [],
   "source": [
    "import cv2\n",
    "import numpy as np\n",
    "\n",
    "# 读取图像\n",
    "image = cv2.imread('image.png', 0)\n",
    "\n",
    "# 使用Canny边缘检测\n",
    "edges = cv2.Canny(image, 100, 200)\n",
    "\n",
    "# 找到所有的轮廓\n",
    "contours, _ = cv2.findContours(edges, cv2.RETR_EXTERNAL, cv2.CHAIN_APPROX_SIMPLE)\n",
    "\n",
    "# 找到最大的轮廓（假设这是肺部的外围边界）\n",
    "max_contour = max(contours, key=cv2.contourArea)\n",
    "\n",
    "# 创建一个全黑的图像\n",
    "mask = np.zeros_like(image)\n",
    "\n",
    "# 在mask上画出最大的轮廓\n",
    "cv2.drawContours(mask, [max_contour], -1, (255), thickness=cv2.FILLED)\n",
    "\n",
    "# 使用mask去掉落在外边的像素点\n",
    "result = cv2.bitwise_and(image, mask)\n",
    "\n",
    "# 显示结果\n",
    "cv2.imshow('Result', result)\n",
    "cv2.waitKey(0)\n",
    "cv2.destroyAllWindows()\n"
   ]
  }
 ],
 "metadata": {
  "language_info": {
   "name": "python"
  }
 },
 "nbformat": 4,
 "nbformat_minor": 2
}
